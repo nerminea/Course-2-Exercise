{
 "cells": [
  {
   "cell_type": "markdown",
   "id": "67e22e39-2ca6-4d15-83d9-1566617ad58f",
   "metadata": {},
   "source": [
    "## Author:\n",
    "Nermine Mahmoud"
   ]
  },
  {
   "cell_type": "markdown",
   "id": "5708ae2a-765d-4256-b528-61037cc1d394",
   "metadata": {},
   "source": [
    "# Data Science Tools and Ecosystem"
   ]
  },
  {
   "cell_type": "markdown",
   "id": "921a5b39-aa29-497b-909a-723f73d85aeb",
   "metadata": {},
   "source": [
    "## in this notebook, Data Science Tools and Ecosystem are summarized."
   ]
  },
  {
   "cell_type": "markdown",
   "id": "b7da3cfc-bf2b-445c-b153-c3a7fe34a9ef",
   "metadata": {},
   "source": [
    "## **Objectives**\n",
    "* Popular languages for Data Science\n",
    "* Commonly used libraries for Data Science\n",
    "* Data Sceince Tools\n"
   ]
  },
  {
   "cell_type": "markdown",
   "id": "ecd73abf-a81b-4933-9549-7414ad6bedbe",
   "metadata": {},
   "source": [
    "### Some of the popular languages that Data Scientists use are:\n",
    "1. Python\n",
    "2. R\n",
    "3. JavaScript"
   ]
  },
  {
   "cell_type": "markdown",
   "id": "941e9ca1-d6dd-40ad-b78c-6851bc04fe9d",
   "metadata": {},
   "source": [
    "### Some of the commonly used librareis used by Data Scientists include:\n",
    "1. Tensorflow\n",
    "2. Keras\n",
    "3. Caret"
   ]
  },
  {
   "cell_type": "markdown",
   "id": "7231bc72-fc91-4dd7-b717-46142422ea8f",
   "metadata": {},
   "source": [
    "### Data Science Tools \n",
    "\n",
    "| Data Science Tools |\n",
    "|:------------------:|\n",
    "|JupyterLab          |\n",
    "|Apache Zeppelin     |\n",
    "|RStudio             |"
   ]
  },
  {
   "cell_type": "markdown",
   "id": "df08cb93-2194-4e6d-9488-b6c2ff2d0e15",
   "metadata": {},
   "source": [
    "### Below are a few examples of evaluating arithmetic expressions in Python\n"
   ]
  },
  {
   "cell_type": "code",
   "execution_count": 1,
   "id": "143e397a-6b3f-4346-a2c1-049d42570e90",
   "metadata": {},
   "outputs": [
    {
     "data": {
      "text/plain": [
       "17"
      ]
     },
     "execution_count": 1,
     "metadata": {},
     "output_type": "execute_result"
    }
   ],
   "source": [
    "#this simple arithmetic expression to multiply then add integers\n",
    "(3*4)+5"
   ]
  },
  {
   "cell_type": "code",
   "execution_count": 2,
   "id": "f27fedd2-41c4-4765-9f85-db96074af262",
   "metadata": {},
   "outputs": [
    {
     "data": {
      "text/plain": [
       "3.3333333333333335"
      ]
     },
     "execution_count": 2,
     "metadata": {},
     "output_type": "execute_result"
    }
   ],
   "source": [
    "#this will convert 200 minutes to hours by dividing by 60\n",
    "200/60"
   ]
  },
  {
   "cell_type": "code",
   "execution_count": null,
   "id": "145e40d6-1a98-4f3d-9bec-10e1717117f6",
   "metadata": {},
   "outputs": [],
   "source": []
  }
 ],
 "metadata": {
  "kernelspec": {
   "display_name": "Python 3 (ipykernel)",
   "language": "python",
   "name": "python3"
  },
  "language_info": {
   "codemirror_mode": {
    "name": "ipython",
    "version": 3
   },
   "file_extension": ".py",
   "mimetype": "text/x-python",
   "name": "python",
   "nbconvert_exporter": "python",
   "pygments_lexer": "ipython3",
   "version": "3.12.1"
  }
 },
 "nbformat": 4,
 "nbformat_minor": 5
}
